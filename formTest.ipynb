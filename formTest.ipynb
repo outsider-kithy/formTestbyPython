{
 "cells": [
  {
   "attachments": {},
   "cell_type": "markdown",
   "metadata": {},
   "source": [
    "# Seleniumでフォームの送信テストを自動化"
   ]
  },
  {
   "cell_type": "code",
   "execution_count": null,
   "metadata": {},
   "outputs": [],
   "source": [
    "# pip install -c conda-forge selenium==3.141.0\n",
    "# もしくは\n",
    "# conda install -c conda-forge selenium==3.141.0"
   ]
  },
  {
   "cell_type": "code",
   "execution_count": 16,
   "metadata": {},
   "outputs": [
    {
     "ename": "NoSuchElementException",
     "evalue": "Message: no such element: Unable to locate element: {\"method\":\"css selector\",\"selector\":\"[name=\"postal-code\"]\"}\n  (Session info: chrome=113.0.5672.126)\n",
     "output_type": "error",
     "traceback": [
      "\u001b[0;31m---------------------------------------------------------------------------\u001b[0m",
      "\u001b[0;31mNoSuchElementException\u001b[0m                    Traceback (most recent call last)",
      "Cell \u001b[0;32mIn[16], line 18\u001b[0m\n\u001b[1;32m     15\u001b[0m last_name\u001b[39m.\u001b[39msend_keys(\u001b[39m\"\u001b[39m\u001b[39m太郎\u001b[39m\u001b[39m\"\u001b[39m)\n\u001b[1;32m     17\u001b[0m \u001b[39m#郵便番号を自動入力\u001b[39;00m\n\u001b[0;32m---> 18\u001b[0m postal_code \u001b[39m=\u001b[39m browser\u001b[39m.\u001b[39;49mfind_element_by_name(\u001b[39m\"\u001b[39;49m\u001b[39mpostal-code\u001b[39;49m\u001b[39m\"\u001b[39;49m)\n\u001b[1;32m     19\u001b[0m postal_code\u001b[39m.\u001b[39msend_keys(\u001b[39m\"\u001b[39m\u001b[39m123-4567\u001b[39m\u001b[39m\"\u001b[39m)\n\u001b[1;32m     21\u001b[0m \u001b[39m#都道府県を自動入力\u001b[39;00m\n",
      "File \u001b[0;32m~/anaconda3/lib/python3.10/site-packages/selenium/webdriver/remote/webdriver.py:496\u001b[0m, in \u001b[0;36mWebDriver.find_element_by_name\u001b[0;34m(self, name)\u001b[0m\n\u001b[1;32m    480\u001b[0m \u001b[39mdef\u001b[39;00m \u001b[39mfind_element_by_name\u001b[39m(\u001b[39mself\u001b[39m, name):\n\u001b[1;32m    481\u001b[0m     \u001b[39m\"\"\"\u001b[39;00m\n\u001b[1;32m    482\u001b[0m \u001b[39m    Finds an element by name.\u001b[39;00m\n\u001b[1;32m    483\u001b[0m \n\u001b[0;32m   (...)\u001b[0m\n\u001b[1;32m    494\u001b[0m \u001b[39m        element = driver.find_element_by_name('foo')\u001b[39;00m\n\u001b[1;32m    495\u001b[0m \u001b[39m    \"\"\"\u001b[39;00m\n\u001b[0;32m--> 496\u001b[0m     \u001b[39mreturn\u001b[39;00m \u001b[39mself\u001b[39;49m\u001b[39m.\u001b[39;49mfind_element(by\u001b[39m=\u001b[39;49mBy\u001b[39m.\u001b[39;49mNAME, value\u001b[39m=\u001b[39;49mname)\n",
      "File \u001b[0;32m~/anaconda3/lib/python3.10/site-packages/selenium/webdriver/remote/webdriver.py:976\u001b[0m, in \u001b[0;36mWebDriver.find_element\u001b[0;34m(self, by, value)\u001b[0m\n\u001b[1;32m    974\u001b[0m         by \u001b[39m=\u001b[39m By\u001b[39m.\u001b[39mCSS_SELECTOR\n\u001b[1;32m    975\u001b[0m         value \u001b[39m=\u001b[39m \u001b[39m'\u001b[39m\u001b[39m[name=\u001b[39m\u001b[39m\"\u001b[39m\u001b[39m%s\u001b[39;00m\u001b[39m\"\u001b[39m\u001b[39m]\u001b[39m\u001b[39m'\u001b[39m \u001b[39m%\u001b[39m value\n\u001b[0;32m--> 976\u001b[0m \u001b[39mreturn\u001b[39;00m \u001b[39mself\u001b[39;49m\u001b[39m.\u001b[39;49mexecute(Command\u001b[39m.\u001b[39;49mFIND_ELEMENT, {\n\u001b[1;32m    977\u001b[0m     \u001b[39m'\u001b[39;49m\u001b[39musing\u001b[39;49m\u001b[39m'\u001b[39;49m: by,\n\u001b[1;32m    978\u001b[0m     \u001b[39m'\u001b[39;49m\u001b[39mvalue\u001b[39;49m\u001b[39m'\u001b[39;49m: value})[\u001b[39m'\u001b[39m\u001b[39mvalue\u001b[39m\u001b[39m'\u001b[39m]\n",
      "File \u001b[0;32m~/anaconda3/lib/python3.10/site-packages/selenium/webdriver/remote/webdriver.py:321\u001b[0m, in \u001b[0;36mWebDriver.execute\u001b[0;34m(self, driver_command, params)\u001b[0m\n\u001b[1;32m    319\u001b[0m response \u001b[39m=\u001b[39m \u001b[39mself\u001b[39m\u001b[39m.\u001b[39mcommand_executor\u001b[39m.\u001b[39mexecute(driver_command, params)\n\u001b[1;32m    320\u001b[0m \u001b[39mif\u001b[39;00m response:\n\u001b[0;32m--> 321\u001b[0m     \u001b[39mself\u001b[39;49m\u001b[39m.\u001b[39;49merror_handler\u001b[39m.\u001b[39;49mcheck_response(response)\n\u001b[1;32m    322\u001b[0m     response[\u001b[39m'\u001b[39m\u001b[39mvalue\u001b[39m\u001b[39m'\u001b[39m] \u001b[39m=\u001b[39m \u001b[39mself\u001b[39m\u001b[39m.\u001b[39m_unwrap_value(\n\u001b[1;32m    323\u001b[0m         response\u001b[39m.\u001b[39mget(\u001b[39m'\u001b[39m\u001b[39mvalue\u001b[39m\u001b[39m'\u001b[39m, \u001b[39mNone\u001b[39;00m))\n\u001b[1;32m    324\u001b[0m     \u001b[39mreturn\u001b[39;00m response\n",
      "File \u001b[0;32m~/anaconda3/lib/python3.10/site-packages/selenium/webdriver/remote/errorhandler.py:242\u001b[0m, in \u001b[0;36mErrorHandler.check_response\u001b[0;34m(self, response)\u001b[0m\n\u001b[1;32m    240\u001b[0m         alert_text \u001b[39m=\u001b[39m value[\u001b[39m'\u001b[39m\u001b[39malert\u001b[39m\u001b[39m'\u001b[39m]\u001b[39m.\u001b[39mget(\u001b[39m'\u001b[39m\u001b[39mtext\u001b[39m\u001b[39m'\u001b[39m)\n\u001b[1;32m    241\u001b[0m     \u001b[39mraise\u001b[39;00m exception_class(message, screen, stacktrace, alert_text)\n\u001b[0;32m--> 242\u001b[0m \u001b[39mraise\u001b[39;00m exception_class(message, screen, stacktrace)\n",
      "\u001b[0;31mNoSuchElementException\u001b[0m: Message: no such element: Unable to locate element: {\"method\":\"css selector\",\"selector\":\"[name=\"postal-code\"]\"}\n  (Session info: chrome=113.0.5672.126)\n"
     ]
    }
   ],
   "source": [
    "from selenium import webdriver\n",
    "from selenium.webdriver.support.select import Select\n",
    "\n",
    "url = \"http://localhost:8888/formTestbyPython/index.php\"\n",
    "browser = webdriver.Chrome(\"/Applications/chromedriver_mac64/chromedriver\")\n",
    "browser.set_page_load_timeout(60)\n",
    "browser.get(url)\n",
    "\n",
    "#姓を自動入力\n",
    "first_name = browser.find_element_by_name(\"first_name\")\n",
    "first_name.send_keys(\"山田\")\n",
    "\n",
    "#名を自動入力\n",
    "last_name = browser.find_element_by_name(\"last_name\")\n",
    "last_name.send_keys(\"太郎\")\n",
    "\n",
    "#郵便番号を自動入力\n",
    "postal_code = browser.find_element_by_name(\"postal_code\")\n",
    "postal_code.send_keys(\"123-4567\")\n",
    "\n",
    "#都道府県を自動入力\n",
    "pref = browser.find_element_by_name(\"pref\")\n",
    "pref.send_keys(\"東京都\")\n",
    "\n",
    "#市区町村を自動入力\n",
    "city = browser.find_element_by_name(\"city\")\n",
    "city.send_keys(\"港区芝公園\")\n",
    "\n",
    "#丁目・番地を自動入力\n",
    "address = browser.find_element_by_name(\"address\")\n",
    "address.send_keys(\"4丁目2-8\")\n",
    "\n",
    "#建物名・部屋番号を自動入力\n",
    "building = browser.find_element_by_name(\"building\")\n",
    "building.send_keys(\"〇〇コーポ202号室\")\n",
    "\n",
    "#電話番号を自動入力\n",
    "tel = browser.find_element_by_name(\"tel\")\n",
    "tel.send_keys(\"09000000000\")\n",
    "\n",
    "#メールアドレスを自動入力\n",
    "email = browser.find_element_by_name(\"email\")\n",
    "email.send_keys(\"example@mail.com\")\n",
    "\n",
    "#誕生年を自動入力\n",
    "birthyear = browser.find_element_by_name(\"birthyear\")\n",
    "birthyear.send_keys(\"1990年\")\n",
    "\n",
    "#誕生月を自動入力\n",
    "birthmonth = browser.find_element_by_name(\"birthmonth\")\n",
    "birthmonth.send_keys(\"1\")\n",
    "\n",
    "#誕生日を自動入力\n",
    "birthday = browser.find_element_by_name(\"birthday\")\n",
    "birthday.send_keys(\"1\")\n",
    "\n",
    "#ご意見を自動入力\n",
    "opinion = browser.find_element_by_name(\"opinion\")\n",
    "opinion.send_keys(\"テスト送信です。\")\n",
    "\n",
    "#index.phpの送信ボタンを自動で押す\n",
    "submit = browser.find_element_by_name(\"submit\")\n",
    "submit.click()\n",
    "\n",
    "#confirm.phpの送信ボタンも自動で押す場合は下記を追加\n",
    "# send = browser.find_element_by_name(\"send\")\n",
    "# send.click()"
   ]
  },
  {
   "cell_type": "code",
   "execution_count": null,
   "metadata": {},
   "outputs": [],
   "source": []
  }
 ],
 "metadata": {
  "kernelspec": {
   "display_name": "base",
   "language": "python",
   "name": "python3"
  },
  "language_info": {
   "codemirror_mode": {
    "name": "ipython",
    "version": 3
   },
   "file_extension": ".py",
   "mimetype": "text/x-python",
   "name": "python",
   "nbconvert_exporter": "python",
   "pygments_lexer": "ipython3",
   "version": "3.10.9"
  },
  "orig_nbformat": 4
 },
 "nbformat": 4,
 "nbformat_minor": 2
}
