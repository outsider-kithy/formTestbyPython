{
 "cells": [
  {
   "attachments": {},
   "cell_type": "markdown",
   "metadata": {},
   "source": [
    "# Seleniumでフォームの送信テストを自動化"
   ]
  },
  {
   "cell_type": "code",
   "execution_count": null,
   "metadata": {},
   "outputs": [],
   "source": [
    "# pip install -c conda-forge selenium==3.141.0\n",
    "# もしくは\n",
    "# conda install -c conda-forge selenium==3.141.0"
   ]
  },
  {
   "cell_type": "code",
   "execution_count": 17,
   "metadata": {},
   "outputs": [],
   "source": [
    "from selenium import webdriver\n",
    "from selenium.webdriver.support.select import Select\n",
    "\n",
    "url = \"http://localhost:8888/formTestbyPython/index.php\"\n",
    "browser = webdriver.Chrome(\"/Applications/chromedriver_mac64/chromedriver\")\n",
    "browser.set_page_load_timeout(60)\n",
    "browser.get(url)\n",
    "\n",
    "#姓を自動入力\n",
    "first_name = browser.find_element_by_name(\"first_name\")\n",
    "first_name.send_keys(\"山田\")\n",
    "\n",
    "#名を自動入力\n",
    "last_name = browser.find_element_by_name(\"last_name\")\n",
    "last_name.send_keys(\"太郎\")\n",
    "\n",
    "#郵便番号を自動入力\n",
    "postal_code = browser.find_element_by_name(\"postal_code\")\n",
    "postal_code.send_keys(\"123-4567\")\n",
    "\n",
    "#都道府県を自動入力\n",
    "pref = browser.find_element_by_name(\"pref\")\n",
    "pref.send_keys(\"東京都\")\n",
    "\n",
    "#市区町村を自動入力\n",
    "city = browser.find_element_by_name(\"city\")\n",
    "city.send_keys(\"港区芝公園\")\n",
    "\n",
    "#丁目・番地を自動入力\n",
    "address = browser.find_element_by_name(\"address\")\n",
    "address.send_keys(\"4丁目2-8\")\n",
    "\n",
    "#建物名・部屋番号を自動入力\n",
    "building = browser.find_element_by_name(\"building\")\n",
    "building.send_keys(\"〇〇コーポ202号室\")\n",
    "\n",
    "#電話番号を自動入力\n",
    "tel = browser.find_element_by_name(\"tel\")\n",
    "tel.send_keys(\"09000000000\")\n",
    "\n",
    "#メールアドレスを自動入力\n",
    "email = browser.find_element_by_name(\"email\")\n",
    "email.send_keys(\"example@mail.com\")\n",
    "\n",
    "#誕生年を自動入力\n",
    "birthyear = browser.find_element_by_name(\"birthyear\")\n",
    "birthyear.send_keys(\"1990年\")\n",
    "\n",
    "#誕生月を自動入力\n",
    "birthmonth = browser.find_element_by_name(\"birthmonth\")\n",
    "birthmonth.send_keys(\"1\")\n",
    "\n",
    "#誕生日を自動入力\n",
    "birthday = browser.find_element_by_name(\"birthday\")\n",
    "birthday.send_keys(\"1\")\n",
    "\n",
    "#ご意見を自動入力\n",
    "opinion = browser.find_element_by_name(\"opinion\")\n",
    "opinion.send_keys(\"テスト送信です。\")\n",
    "\n",
    "#index.phpの送信ボタンを自動で押す\n",
    "submit = browser.find_element_by_name(\"submit\")\n",
    "submit.click()\n",
    "\n",
    "#confirm.phpの送信ボタンも自動で押す場合は下記を追加\n",
    "# send = browser.find_element_by_name(\"send\")\n",
    "# send.click()"
   ]
  },
  {
   "cell_type": "code",
   "execution_count": null,
   "metadata": {},
   "outputs": [],
   "source": []
  }
 ],
 "metadata": {
  "kernelspec": {
   "display_name": "base",
   "language": "python",
   "name": "python3"
  },
  "language_info": {
   "codemirror_mode": {
    "name": "ipython",
    "version": 3
   },
   "file_extension": ".py",
   "mimetype": "text/x-python",
   "name": "python",
   "nbconvert_exporter": "python",
   "pygments_lexer": "ipython3",
   "version": "3.10.9"
  },
  "orig_nbformat": 4
 },
 "nbformat": 4,
 "nbformat_minor": 2
}
